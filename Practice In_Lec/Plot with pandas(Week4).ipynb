{
 "cells": [
  {
   "cell_type": "code",
   "execution_count": 1,
   "metadata": {},
   "outputs": [],
   "source": [
    "import pandas as pd\n",
    "import numpy as np\n",
    "import matplotlib.pyplot as plt\n",
    "%matplotlib notebook"
   ]
  },
  {
   "cell_type": "code",
   "execution_count": 2,
   "metadata": {},
   "outputs": [
    {
     "data": {
      "text/plain": [
       "['seaborn-darkgrid',\n",
       " 'Solarize_Light2',\n",
       " 'seaborn-notebook',\n",
       " 'classic',\n",
       " 'seaborn-ticks',\n",
       " 'grayscale',\n",
       " 'bmh',\n",
       " 'seaborn-talk',\n",
       " 'dark_background',\n",
       " 'ggplot',\n",
       " 'fivethirtyeight',\n",
       " '_classic_test',\n",
       " 'seaborn-colorblind',\n",
       " 'seaborn-deep',\n",
       " 'seaborn-whitegrid',\n",
       " 'seaborn-bright',\n",
       " 'seaborn-poster',\n",
       " 'seaborn-muted',\n",
       " 'seaborn-paper',\n",
       " 'seaborn-white',\n",
       " 'fast',\n",
       " 'seaborn-pastel',\n",
       " 'seaborn-dark',\n",
       " 'tableau-colorblind10',\n",
       " 'seaborn',\n",
       " 'seaborn-dark-palette']"
      ]
     },
     "execution_count": 2,
     "metadata": {},
     "output_type": "execute_result"
    }
   ],
   "source": [
    "#available style\n",
    "plt.style.available"
   ]
  },
  {
   "cell_type": "code",
   "execution_count": 4,
   "metadata": {},
   "outputs": [],
   "source": [
    "import seaborn as sns"
   ]
  },
  {
   "cell_type": "code",
   "execution_count": null,
   "metadata": {},
   "outputs": [],
   "source": []
  }
 ],
 "metadata": {
  "kernelspec": {
   "display_name": "Python 3",
   "language": "python",
   "name": "python3"
  },
  "language_info": {
   "codemirror_mode": {
    "name": "ipython",
    "version": 2
   },
   "file_extension": ".py",
   "mimetype": "text/x-python",
   "name": "python",
   "nbconvert_exporter": "python",
   "pygments_lexer": "ipython2",
   "version": "2.7.15+"
  }
 },
 "nbformat": 4,
 "nbformat_minor": 2
}
